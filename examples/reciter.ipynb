{
 "cells": [
  {
   "cell_type": "code",
   "id": "initial_id",
   "metadata": {
    "collapsed": true,
    "ExecuteTime": {
     "end_time": "2024-08-04T03:15:51.804723Z",
     "start_time": "2024-08-04T03:15:51.355852Z"
    }
   },
   "source": "from ayah_sender import AyahSender",
   "outputs": [],
   "execution_count": 1
  },
  {
   "metadata": {
    "ExecuteTime": {
     "end_time": "2024-08-04T03:17:02.823969Z",
     "start_time": "2024-08-04T03:17:02.816360Z"
    }
   },
   "cell_type": "code",
   "source": "ayahSender = AyahSender()",
   "id": "166a14bae240ae46",
   "outputs": [],
   "execution_count": 5
  },
  {
   "metadata": {
    "ExecuteTime": {
     "end_time": "2024-08-04T03:19:05.337401Z",
     "start_time": "2024-08-04T03:19:05.327850Z"
    }
   },
   "cell_type": "code",
   "source": [
    "reciters_info = ayahSender.reciter.show_reciters()\n",
    "print(reciters_info)"
   ],
   "id": "ea53954117ce2599",
   "outputs": [
    {
     "name": "stdout",
     "output_type": "stream",
     "text": [
      "{\n",
      "    \"1\": \"AbdulSamad_64kbps_QuranExplorer.Com\",\n",
      "    \"2\": \"Abdul_Basit_Mujawwad_128kbps\",\n",
      "    \"3\": \"Abdul_Basit_Murattal_64kbps\",\n",
      "    \"4\": \"Abdullaah_3awwaad_Al-Juhaynee_128kbps\",\n",
      "    \"5\": \"Abdullah_Basfar_192kbps\",\n",
      "    \"6\": \"Abdullah_Matroud_128kbps\",\n",
      "    \"7\": \"Abdurrahmaan_As-Sudais_192kbps\",\n",
      "    \"8\": \"Abu_Bakr_Ash-Shaatree_128kbps\",\n",
      "    \"9\": \"Ahmed_Neana_128kbps\",\n",
      "    \"10\": \"Ahmed_ibn_Ali_al-Ajamy_128kbps_ketaballah.net\",\n",
      "    \"11\": \"Akram_AlAlaqimy_128kbps\",\n",
      "    \"12\": \"Alafasy_128kbps\",\n",
      "    \"13\": \"Ali_Hajjaj_AlSuesy_128kbps\",\n",
      "    \"14\": \"Ali_Jaber_64kbps\",\n",
      "    \"15\": \"Ayman_Sowaid_64kbps\",\n",
      "    \"16\": \"Fares_Abbad_64kbps\",\n",
      "    \"17\": \"Ghamadi_40kbps\",\n",
      "    \"18\": \"Hani_Rifai_192kbps\",\n",
      "    \"19\": \"Hudhaify_128kbps\",\n",
      "    \"20\": \"Husary_128kbps\",\n",
      "    \"21\": \"Husary_Mujawwad_64kbps\",\n",
      "    \"22\": \"Husary_Muallim_128kbps\",\n",
      "    \"23\": \"Ibrahim_Akhdar_64kbps\",\n",
      "    \"24\": \"Khaalid_Abdullaah_al-Qahtaanee_192kbps\",\n",
      "    \"25\": \"MaherAlMuaiqly128kbps\",\n",
      "    \"26\": \"Menshawi_32kbps\",\n",
      "    \"27\": \"Minshawy_Mujawwad_192kbps\",\n",
      "    \"28\": \"Minshawy_Murattal_128kbps\",\n",
      "    \"29\": \"Minshawy_Teacher_128kbps\",\n",
      "    \"30\": \"Mohammad_al_Tablaway_128kbps\",\n",
      "    \"31\": \"Muhammad_AbdulKareem_128kbps\",\n",
      "    \"32\": \"Muhammad_Ayyoub_128kbps\",\n",
      "    \"33\": \"Muhammad_Jibreel_128kbps\",\n",
      "    \"34\": \"Muhsin_Al_Qasim_192kbps\",\n",
      "    \"35\": \"Mustafa_Ismail_48kbps\",\n",
      "    \"36\": \"Nabil_Rifa3i_48kbps\",\n",
      "    \"37\": \"Nasser_Alqatami_128kbps\",\n",
      "    \"38\": \"Parhizgar_48kbps\",\n",
      "    \"39\": \"Sahl_Yassin_128kbps\",\n",
      "    \"40\": \"Salaah_AbdulRahman_Bukhatir_128kbps\",\n",
      "    \"41\": \"Salah_Al_Budair_128kbps\",\n",
      "    \"42\": \"Saood_ash-Shuraym_128kbps\",\n",
      "    \"43\": \"Yaser_Salamah_128kbps\",\n",
      "    \"44\": \"Yasser_Ad-Dussary_128kbps\",\n",
      "    \"45\": \"ahmed_ibn_ali_al_ajamy_128kbps\",\n",
      "    \"46\": \"aziz_alili_128kbps\",\n",
      "    \"47\": \"khalefa_al_tunaiji_64kbps\",\n",
      "    \"48\": \"mahmoud_ali_al_banna_32kbps\"\n",
      "}\n"
     ]
    }
   ],
   "execution_count": 7
  },
  {
   "metadata": {},
   "cell_type": "code",
   "outputs": [],
   "execution_count": null,
   "source": "",
   "id": "10579e1df17ff625"
  }
 ],
 "metadata": {
  "kernelspec": {
   "display_name": "Python 3",
   "language": "python",
   "name": "python3"
  },
  "language_info": {
   "codemirror_mode": {
    "name": "ipython",
    "version": 2
   },
   "file_extension": ".py",
   "mimetype": "text/x-python",
   "name": "python",
   "nbconvert_exporter": "python",
   "pygments_lexer": "ipython2",
   "version": "2.7.6"
  }
 },
 "nbformat": 4,
 "nbformat_minor": 5
}
