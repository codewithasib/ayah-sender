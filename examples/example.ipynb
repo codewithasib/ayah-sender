{
 "cells": [
  {
   "cell_type": "code",
   "id": "initial_id",
   "metadata": {
    "collapsed": true,
    "ExecuteTime": {
     "end_time": "2024-08-04T03:01:33.521003Z",
     "start_time": "2024-08-04T03:01:33.410717Z"
    }
   },
   "source": "from ayah_sender import AyahSender",
   "outputs": [],
   "execution_count": 2
  },
  {
   "metadata": {},
   "cell_type": "markdown",
   "source": "## Instantiating the AyahSender class",
   "id": "6e27e36dfbabbfda"
  },
  {
   "metadata": {
    "ExecuteTime": {
     "end_time": "2024-08-04T03:01:49.559980Z",
     "start_time": "2024-08-04T03:01:49.500026Z"
    }
   },
   "cell_type": "code",
   "source": "ayahSender = AyahSender()",
   "id": "cca96d8e3a7e8252",
   "outputs": [],
   "execution_count": 3
  },
  {
   "metadata": {},
   "cell_type": "markdown",
   "source": "## Showing all available reciter names and ids",
   "id": "e49d3091c4883b9d"
  },
  {
   "metadata": {
    "ExecuteTime": {
     "end_time": "2024-08-04T03:04:03.869936Z",
     "start_time": "2024-08-04T03:04:03.845768Z"
    }
   },
   "cell_type": "code",
   "source": [
    "reciters_info = ayahSender.reciter.show_reciters()\n",
    "print(reciters_info)"
   ],
   "id": "23c3969a286d9848",
   "outputs": [
    {
     "name": "stdout",
     "output_type": "stream",
     "text": [
      "{\n",
      "    \"1\": \"AbdulSamad_64kbps_QuranExplorer.Com\",\n",
      "    \"2\": \"Abdul_Basit_Mujawwad_128kbps\",\n",
      "    \"3\": \"Abdul_Basit_Murattal_64kbps\",\n",
      "    \"4\": \"Abdullaah_3awwaad_Al-Juhaynee_128kbps\",\n",
      "    \"5\": \"Abdullah_Basfar_192kbps\",\n",
      "    \"6\": \"Abdullah_Matroud_128kbps\",\n",
      "    \"7\": \"Abdurrahmaan_As-Sudais_192kbps\",\n",
      "    \"8\": \"Abu_Bakr_Ash-Shaatree_128kbps\",\n",
      "    \"9\": \"Ahmed_Neana_128kbps\",\n",
      "    \"10\": \"Ahmed_ibn_Ali_al-Ajamy_128kbps_ketaballah.net\",\n",
      "    \"11\": \"Akram_AlAlaqimy_128kbps\",\n",
      "    \"12\": \"Alafasy_128kbps\",\n",
      "    \"13\": \"Ali_Hajjaj_AlSuesy_128kbps\",\n",
      "    \"14\": \"Ali_Jaber_64kbps\",\n",
      "    \"15\": \"Ayman_Sowaid_64kbps\",\n",
      "    \"16\": \"Fares_Abbad_64kbps\",\n",
      "    \"17\": \"Ghamadi_40kbps\",\n",
      "    \"18\": \"Hani_Rifai_192kbps\",\n",
      "    \"19\": \"Hudhaify_128kbps\",\n",
      "    \"20\": \"Husary_128kbps\",\n",
      "    \"21\": \"Husary_Mujawwad_64kbps\",\n",
      "    \"22\": \"Husary_Muallim_128kbps\",\n",
      "    \"23\": \"Ibrahim_Akhdar_64kbps\",\n",
      "    \"24\": \"Khaalid_Abdullaah_al-Qahtaanee_192kbps\",\n",
      "    \"25\": \"MaherAlMuaiqly128kbps\",\n",
      "    \"26\": \"Menshawi_32kbps\",\n",
      "    \"27\": \"Minshawy_Mujawwad_192kbps\",\n",
      "    \"28\": \"Minshawy_Murattal_128kbps\",\n",
      "    \"29\": \"Minshawy_Teacher_128kbps\",\n",
      "    \"30\": \"Mohammad_al_Tablaway_128kbps\",\n",
      "    \"31\": \"Muhammad_AbdulKareem_128kbps\",\n",
      "    \"32\": \"Muhammad_Ayyoub_128kbps\",\n",
      "    \"33\": \"Muhammad_Jibreel_128kbps\",\n",
      "    \"34\": \"Muhsin_Al_Qasim_192kbps\",\n",
      "    \"35\": \"Mustafa_Ismail_48kbps\",\n",
      "    \"36\": \"Nabil_Rifa3i_48kbps\",\n",
      "    \"37\": \"Nasser_Alqatami_128kbps\",\n",
      "    \"38\": \"Parhizgar_48kbps\",\n",
      "    \"39\": \"Sahl_Yassin_128kbps\",\n",
      "    \"40\": \"Salaah_AbdulRahman_Bukhatir_128kbps\",\n",
      "    \"41\": \"Salah_Al_Budair_128kbps\",\n",
      "    \"42\": \"Saood_ash-Shuraym_128kbps\",\n",
      "    \"43\": \"Yaser_Salamah_128kbps\",\n",
      "    \"44\": \"Yasser_Ad-Dussary_128kbps\",\n",
      "    \"45\": \"ahmed_ibn_ali_al_ajamy_128kbps\",\n",
      "    \"46\": \"aziz_alili_128kbps\",\n",
      "    \"47\": \"khalefa_al_tunaiji_64kbps\",\n",
      "    \"48\": \"mahmoud_ali_al_banna_32kbps\"\n",
      "}\n"
     ]
    }
   ],
   "execution_count": 5
  },
  {
   "metadata": {},
   "cell_type": "markdown",
   "source": "## Getting audio of a single ayah",
   "id": "7aa666954b535ed8"
  },
  {
   "metadata": {
    "ExecuteTime": {
     "end_time": "2024-08-04T03:08:18.925803Z",
     "start_time": "2024-08-04T03:08:12.940687Z"
    }
   },
   "cell_type": "code",
   "source": "single_ayah = ayahSender.get_single_ayah(reciter_id=4, chapter_num=25, verse_num=23)",
   "id": "2d674d2f2d9af358",
   "outputs": [],
   "execution_count": 6
  },
  {
   "metadata": {},
   "cell_type": "markdown",
   "source": "## Saving the audio to a file",
   "id": "a41f57e9891fc724"
  },
  {
   "metadata": {
    "ExecuteTime": {
     "end_time": "2024-08-04T03:09:48.683457Z",
     "start_time": "2024-08-04T03:09:47.926093Z"
    }
   },
   "cell_type": "code",
   "source": "ayahSender.save_audio(single_ayah)",
   "id": "e21b85580417f385",
   "outputs": [
    {
     "name": "stdout",
     "output_type": "stream",
     "text": [
      "Downloading Abdullaah_3awwaad_Al-Juhaynee_128kbps_Surah25_Ayah23-23.mp3\n",
      "./Abdullaah_3awwaad_Al-Juhaynee_128kbps_Surah25_Ayah23-23.mp3 saved successfully!\n"
     ]
    }
   ],
   "execution_count": 9
  },
  {
   "metadata": {},
   "cell_type": "markdown",
   "source": "## Getting audio of multiple ayahs",
   "id": "930221f92b2cc78c"
  },
  {
   "metadata": {
    "ExecuteTime": {
     "end_time": "2024-08-04T03:12:23.764968Z",
     "start_time": "2024-08-04T03:11:57.374258Z"
    }
   },
   "cell_type": "code",
   "source": "multiple_ayah = ayahSender.merge_ayahs(reciter_id=4, chapter_num=5, start_verse=23, end_verse=28)",
   "id": "3949336f9b765def",
   "outputs": [],
   "execution_count": 10
  },
  {
   "metadata": {},
   "cell_type": "markdown",
   "source": "## Saving the audio to a file",
   "id": "d61340da4a2e0cbe"
  },
  {
   "metadata": {
    "ExecuteTime": {
     "end_time": "2024-08-04T03:12:47.500539Z",
     "start_time": "2024-08-04T03:12:43.706118Z"
    }
   },
   "cell_type": "code",
   "source": "ayahSender.save_audio(multiple_ayah, output_dir='../')",
   "id": "cb5816d8b171fc59",
   "outputs": [
    {
     "name": "stdout",
     "output_type": "stream",
     "text": [
      "Downloading Abdullaah_3awwaad_Al-Juhaynee_128kbps_Surah5_Ayah23-28.mp3\n",
      "..//Abdullaah_3awwaad_Al-Juhaynee_128kbps_Surah5_Ayah23-28.mp3 saved successfully!\n"
     ]
    }
   ],
   "execution_count": 11
  },
  {
   "metadata": {},
   "cell_type": "code",
   "outputs": [],
   "execution_count": null,
   "source": "",
   "id": "9f6e785a6064477f"
  }
 ],
 "metadata": {
  "kernelspec": {
   "display_name": "Python 3",
   "language": "python",
   "name": "python3"
  },
  "language_info": {
   "codemirror_mode": {
    "name": "ipython",
    "version": 2
   },
   "file_extension": ".py",
   "mimetype": "text/x-python",
   "name": "python",
   "nbconvert_exporter": "python",
   "pygments_lexer": "ipython2",
   "version": "2.7.6"
  }
 },
 "nbformat": 4,
 "nbformat_minor": 5
}
